{
 "cells": [
  {
   "cell_type": "code",
   "execution_count": 1,
   "id": "4eedfd14-503a-495f-b41f-449f8b97480a",
   "metadata": {},
   "outputs": [
    {
     "data": {
      "text/plain": [
       "Main.ath2h5"
      ]
     },
     "execution_count": 1,
     "metadata": {},
     "output_type": "execute_result"
    }
   ],
   "source": [
    "module ath2h5\n",
    "using HDF5\n",
    "#using PyCall\n",
    "#glob = pyimport(\"glob\");\n",
    "const Cube{T}=Array{T,3};\n",
    "const Mat{T}=Array{T,2};\n",
    "const Vec{T}=Array{T,1};\n",
    "\n",
    "##############################################################################\n",
    "#\n",
    "# Copyright (c) 2018 \n",
    "# Ka Ho Yuen, Ka Wai Ho, Yue Hu, Junda Chen and Alex Lazarian\n",
    "# All Rights Reserved.\n",
    "#\n",
    "# ​This program is free software: you can redistribute it and/or modify\n",
    "# ​it under the terms of the GNU General Public License as published by\n",
    "# ​the Free Software Foundation, either version 3 of the License, or\n",
    "# ​(at your option) any later version.\n",
    "# ​\n",
    "# This program is distributed in the hope that it will be useful,\n",
    "# ​but WITHOUT ANY WARRANTY; without even the implied warranty of\n",
    "# ​MERCHANTABILITY or FITNESS FOR A PARTICULAR PURPOSE.  See the\n",
    "# ​GNU General Public License for more details.\n",
    "# ​You should have received a copy of the GNU General Public License\n",
    "# ​along with this program.  If not, see <https://www.gnu.org/licenses/>.\n",
    "#\n",
    "##############################################################################\n",
    "\n",
    "###############################################################################\n",
    "#\t\t\t\t\t\t\t\t\t\t\t\t\t\t\t\t\t\t\t  #\n",
    "#\t\t\t\t\t\t\t\t\t Code for\t\t\t\t\t\t\t\t  # \n",
    "#\t\t\t\t    \t\t \t\t\t\t\t\t\t                      #\n",
    "#\t\t\t\t\t\tConverting Athena athdf to hdf5\t\t\t\t       \t  #\n",
    "#\t\t\t\t\t\t\t\t\t\t\t\t\t\t\t\t\t\t\t  #\n",
    "###############################################################################\n",
    "#   \n",
    "#\n",
    "#\t\tVersion     : v1.0.1(16/11/2019)\n",
    "#       Author\t\t: KW HO @ Lazarian Technology\n",
    "#\t\tDescription : Converting Athena athdf to hdf5\n",
    "#       Input       : *.athdf\n",
    "#       Output      : function*(h5): ConvertAthdf ath2h5\n",
    "#       Data Format : \"ConvertAthdf\"  : Converting Athdf inisde the julia \n",
    "#                                       environment without save.\n",
    "#                      Type: dictationary\n",
    "#\t\t\t\t\t  \"ath2h5\"     : Converting Athdf to h5 and saving\n",
    "#                      Type: N/A\n",
    "#\n",
    "######################################################################################\n",
    "export ConvertAthdf,ath2h5save,DecompressionMode\n",
    "\n",
    "\n",
    "function puzzleX(prim,LL,k,Nx,Ny,Nz)\n",
    "\tc=map(Float32,zeros((Nx,Ny,Nz)));\n",
    "\t#Nx,Ny,Nz = [maximum(LL[1,:]),maximum(LL[2,:]),maximum(LL[3,:])].*???\n",
    "\tdN = [size(prim)[1];size(prim)[2];size(prim)[3]];\n",
    "\tfor i = 1:size(LL)[2]\n",
    "\t\tx1s, x2s, x3s = (LL[:,i].*dN).+1;\n",
    "\t\tx1f, x2f, x3f = (LL[:,i].+1).*dN;\n",
    "\t\t@views c[x1s:x1f, x2s:x2f, x3s:x3f] = prim[:,:,:,i,k];\n",
    "\tend\n",
    "\tc\n",
    "end\n",
    "\n",
    "struct DecompressionMode\n",
    "\tEOS\n",
    "\tB\n",
    "\tG\n",
    "end\n",
    "\n",
    "function CubesInitilizer(mode,Nx::Number,Ny::Number,Nz::Number)\n",
    "\tCubes = Dict(\"d\"=>zeros(Float32,Nx,Ny,Nz),\n",
    "         \t\t \"iv\"=>zeros(Float32,Nx,Ny,Nz),\"jv\"=>zeros(Float32,Nx,Ny,Nz),\"kv\"=>zeros(Float32,Nx,Ny,Nz));\n",
    "\t(mode.EOS == \"Adiabatic\" ) ? get!(Cubes,\"p\",zeros(Float32,Nx,Ny,Nz)) : NaN;\n",
    "\t(mode.G   == true) ? get!(Cubes,\"G\",zeros(Float32,Nx,Ny,Nz)) : NaN;\n",
    "\tif (mode.B == true)\n",
    "\t\tget!(Cubes,\"ib\",zeros(Float32,Nx,Ny,Nz));\n",
    "\t\tget!(Cubes,\"jb\",zeros(Float32,Nx,Ny,Nz));\n",
    "\t\tget!(Cubes,\"kb\",zeros(Float32,Nx,Ny,Nz));\n",
    "\tend\n",
    "\tCubes\n",
    "end\n",
    "\n",
    "function ConvertAthdf(db,Nx::Int,Ny::Int,Nz::Int,mode)\n",
    "\tf = h5open(db,\"r\");\n",
    "\tprim = read(f,\"prim\");\n",
    " \tLL   = read(f,\"LogicalLocations\");\n",
    "\tCubes = CubesInitilizer(mode,Nx,Ny,Nz);\n",
    " \tCubes[\"d\"] = puzzleX(prim,LL,1,Nx,Ny,Nz);\n",
    " \tif (mode.EOS == \"Isothermal\" )\n",
    "\t\tCubes[\"iv\"] = puzzleX(prim,LL,2,Nx,Ny,Nz);\n",
    "\t\tCubes[\"jv\"] = puzzleX(prim,LL,3,Nx,Ny,Nz);\n",
    "\t\tCubes[\"kv\"] = puzzleX(prim,LL,4,Nx,Ny,Nz);\n",
    " \telseif (mode.EOS == \"Adiabatic\")\n",
    "\t\tCubes[\"p\"]  = puzzleX(prim,LL,2,Nx,Ny,Nz);\n",
    "\t\tCubes[\"iv\"] = puzzleX(prim,LL,3,Nx,Ny,Nz);\n",
    "\t\tCubes[\"jv\"] = puzzleX(prim,LL,4,Nx,Ny,Nz);\n",
    "\t\tCubes[\"kv\"] = puzzleX(prim,LL,5,Nx,Ny,Nz);\n",
    "\tend\n",
    "\tif ( mode.B == true )\n",
    " \t\tB = read(f,\"B\");\n",
    " \t\tib = puzzleX(B,LL,1,Nx,Ny,Nz);\n",
    " \t\tjb = puzzleX(B,LL,2,Nx,Ny,Nz);\n",
    " \t\tkb = puzzleX(B,LL,3,Nx,Ny,Nz);\n",
    " \t\tb2 = ib.^2+jb.^2+kb.^2;\n",
    "\t\tCubes[\"ib\"] = puzzleX(B,LL,1,Nx,Ny,Nz);\n",
    "\t\tCubes[\"jb\"] = puzzleX(B,LL,2,Nx,Ny,Nz);\n",
    "\t\tCubes[\"kb\"] = puzzleX(B,LL,3,Nx,Ny,Nz);\n",
    "\tend\n",
    "\tif (mode.G == true)\n",
    "\t\tCubes[\"G\"] = puzzleX(prim,LL,size(prim)[end],Nx,Ny,Nz);\n",
    "\tend\n",
    "\tclose(f)\n",
    "\treturn Cubes\n",
    "end\n",
    "\n",
    "\n",
    "function ath2h5save(file,Nx::Int,Ny::Int,Nz::Int,mode)\n",
    "\tCase = file[1:10]\n",
    "\tTime= file[end-10:end-6]\n",
    "\tName = Case*\"_T\"*Time*\".h5\";\n",
    "\tfw = h5open(Name,\"w\");\n",
    "\tCubes = ConvertAthdf(file,Nx,Ny,Nz,mode)\n",
    "\tGC.gc();\n",
    "\twrite(fw,\"gas_density\",Cubes[\"d\"]);\n",
    "\twrite(fw,\"i_velocity\",Cubes[\"iv\"]);\n",
    "\twrite(fw,\"j_velocity\",Cubes[\"jv\"]);\n",
    "\twrite(fw,\"k_velocity\",Cubes[\"kv\"]);\n",
    "\tif (mode.EOS == \"Adiabatic\")\n",
    "\t\twrite(fw,\"gas_pressure\",Cubes[\"p\"]);\n",
    "\tend\n",
    "\tif (mode.G == true)\n",
    "\t\twrite(fw,\"grav_pot\",Cubes[\"G\"]);\n",
    "\tend\n",
    "\tif ( mode.B == true )\n",
    "\t\twrite(fw,\"i_mag_field\",Cubes[\"ib\"]);\n",
    "\t\twrite(fw,\"j_mag_field\",Cubes[\"jb\"]);\n",
    "\t\twrite(fw,\"k_mag_field\",Cubes[\"kb\"]);\n",
    "\tend\n",
    "\tclose(fw);\n",
    "end\n",
    "end\n",
    "\n",
    "#Exmple to Use the code\n",
    "#1. EOS (Adaibatic->γ ≠ 1, Isothermal = 1 )\n",
    "#2. B-field\n",
    "#3. Gravity\n",
    "#mode = DecompressionMode(\"Isothermal\",true,true)\n",
    "#Nx=Ny=Nz=120;\n",
    "#db = \"Turb.out2.00000.athdf\";\n",
    "#Cubes = ConvertAthdf(db,Nx,Ny,Nz,mode);"
   ]
  },
  {
   "cell_type": "code",
   "execution_count": 1,
   "id": "76eb9296-6a08-4d8f-a999-6232dbe1ff76",
   "metadata": {},
   "outputs": [],
   "source": [
    "using PyPlot\n",
    "using HDF5"
   ]
  },
  {
   "cell_type": "code",
   "execution_count": 3,
   "id": "19f9eb27-811f-4094-929a-b84877a3f39e",
   "metadata": {},
   "outputs": [
    {
     "data": {
      "text/plain": [
       "\"/global/cscratch1/sd/kyuen2/AthenaMP/B_3miG/MP_MHD_800.out2.00002.athdf\""
      ]
     },
     "execution_count": 3,
     "metadata": {},
     "output_type": "execute_result"
    }
   ],
   "source": [
    "#mode = ath2h5.DecompressionMode(\"Adiabatic\",true,false)\n",
    "Nx = Ny = Nz = 800\n",
    "db = \"/global/cscratch1/sd/kyuen2/AthenaMP/B_3miG/MP_MHD_800.out2.00002.athdf\"\n",
    "#Cubes = ath2h5.ConvertAthdf(db,Nx,Ny,Nz,mode)"
   ]
  },
  {
   "cell_type": "code",
   "execution_count": 4,
   "id": "48f35a82-1b4b-4075-b423-da2fef3136e9",
   "metadata": {},
   "outputs": [],
   "source": [
    "f = h5open(db,\"r\");\n",
    "prim = read(f,\"prim\");\n",
    "LL   = read(f,\"LogicalLocations\");"
   ]
  },
  {
   "cell_type": "code",
   "execution_count": 5,
   "id": "601df52d-7948-4490-9979-88e2ff310153",
   "metadata": {},
   "outputs": [
    {
     "data": {
      "text/plain": [
       "puzzleX (generic function with 1 method)"
      ]
     },
     "execution_count": 5,
     "metadata": {},
     "output_type": "execute_result"
    }
   ],
   "source": [
    "function puzzleX(prim,LL,k,Nx,Ny,Nz)\n",
    "\tc=map(Float32,zeros((Nx,Ny,Nz)));\n",
    "\t#Nx,Ny,Nz = [maximum(LL[1,:]),maximum(LL[2,:]),maximum(LL[3,:])].*???\n",
    "\tdN = [size(prim)[1];size(prim)[2];size(prim)[3]];\n",
    "\tfor i = 1:size(LL)[2]\n",
    "\t\tx1s, x2s, x3s = (LL[:,i].*dN).+1;\n",
    "\t\tx1f, x2f, x3f = (LL[:,i].+1).*dN;\n",
    "\t\tc[x1s:x1f, x2s:x2f, x3s:x3f] = prim[:,:,:,i,k];\n",
    "\tend\n",
    "\tc\n",
    "end"
   ]
  },
  {
   "cell_type": "code",
   "execution_count": null,
   "id": "6c365f2b-6f50-4a7b-877e-15bde2ef9f81",
   "metadata": {},
   "outputs": [],
   "source": [
    "B = read(f,\"B\");\n",
    "ib = puzzleX(B,LL,1,Nx,Ny,Nz);\n",
    "jb = puzzleX(B,LL,2,Nx,Ny,Nz);\n",
    "kb = puzzleX(B,LL,3,Nx,Ny,Nz);"
   ]
  },
  {
   "cell_type": "code",
   "execution_count": 6,
   "id": "48725e45-ef9b-47c5-8969-e91d9f9edf68",
   "metadata": {},
   "outputs": [],
   "source": [
    "d = puzzleX(prim,LL,1,Nx,Ny,Nz);\n",
    "p = puzzleX(prim,LL,2,Nx,Ny,Nz);\n",
    "iv= puzzleX(prim,LL,3,Nx,Ny,Nz);\n",
    "jv= puzzleX(prim,LL,4,Nx,Ny,Nz);\n",
    "kv= puzzleX(prim,LL,5,Nx,Ny,Nz);"
   ]
  },
  {
   "cell_type": "code",
   "execution_count": null,
   "id": "ae9764b9-39a6-4778-bb2e-42ec0f00557d",
   "metadata": {},
   "outputs": [],
   "source": []
  }
 ],
 "metadata": {
  "kernelspec": {
   "display_name": "julia 1.8.0",
   "language": "julia",
   "name": "julia-1.8"
  },
  "language_info": {
   "file_extension": ".jl",
   "mimetype": "application/julia",
   "name": "julia",
   "version": "1.8.0"
  }
 },
 "nbformat": 4,
 "nbformat_minor": 5
}
