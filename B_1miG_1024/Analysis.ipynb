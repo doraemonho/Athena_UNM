{
 "cells": [
  {
   "cell_type": "code",
   "execution_count": 3,
   "id": "76eb9296-6a08-4d8f-a999-6232dbe1ff76",
   "metadata": {},
   "outputs": [
    {
     "data": {
      "text/plain": [
       "PyObject <module 'matplotlib' from '/global/homes/k/kyuen2/.julia/conda/3/lib/python3.10/site-packages/matplotlib/__init__.py'>"
      ]
     },
     "execution_count": 3,
     "metadata": {},
     "output_type": "execute_result"
    }
   ],
   "source": [
    "using PyPlot\n",
    "using HDF5\n",
    "using PyCall\n",
    "using Statistics\n",
    "mpl = pyimport(\"matplotlib\")"
   ]
  },
  {
   "cell_type": "code",
   "execution_count": 2,
   "id": "19f9eb27-811f-4094-929a-b84877a3f39e",
   "metadata": {},
   "outputs": [
    {
     "data": {
      "text/plain": [
       "\"/global/cscratch1/sd/kyuen2/AthenaMP/B_3miG/MP_MHD_800.out2.00013.athdf\""
      ]
     },
     "execution_count": 2,
     "metadata": {},
     "output_type": "execute_result"
    }
   ],
   "source": [
    "#mode = ath2h5.DecompressionMode(\"Adiabatic\",true,false)\n",
    "Nx = Ny = Nz = 800\n",
    "db = \"/global/cscratch1/sd/kyuen2/AthenaMP/B_3miG/MP_MHD_800.out2.00013.athdf\"\n",
    "#Cubes = ath2h5.ConvertAthdf(db,Nx,Ny,Nz,mode)"
   ]
  },
  {
   "cell_type": "code",
   "execution_count": 4,
   "id": "48f35a82-1b4b-4075-b423-da2fef3136e9",
   "metadata": {},
   "outputs": [],
   "source": [
    "f = h5open(db,\"r\");\n",
    "prim = read(f,\"prim\");\n",
    "LL   = read(f,\"LogicalLocations\");"
   ]
  },
  {
   "cell_type": "code",
   "execution_count": 5,
   "id": "601df52d-7948-4490-9979-88e2ff310153",
   "metadata": {},
   "outputs": [
    {
     "data": {
      "text/plain": [
       "puzzleX (generic function with 1 method)"
      ]
     },
     "execution_count": 5,
     "metadata": {},
     "output_type": "execute_result"
    }
   ],
   "source": [
    "function puzzleX(prim,LL,k,Nx,Ny,Nz)\n",
    "\tc=map(Float32,zeros((Nx,Ny,Nz)));\n",
    "\t#Nx,Ny,Nz = [maximum(LL[1,:]),maximum(LL[2,:]),maximum(LL[3,:])].*???\n",
    "\tdN = [size(prim)[1];size(prim)[2];size(prim)[3]];\n",
    "\tfor i = 1:size(LL)[2]\n",
    "\t\tx1s, x2s, x3s = (LL[:,i].*dN).+1;\n",
    "\t\tx1f, x2f, x3f = (LL[:,i].+1).*dN;\n",
    "\t\t@views c[x1s:x1f, x2s:x2f, x3s:x3f] = prim[:,:,:,i,k];\n",
    "\tend\n",
    "\tc\n",
    "end"
   ]
  },
  {
   "cell_type": "code",
   "execution_count": null,
   "id": "6c365f2b-6f50-4a7b-877e-15bde2ef9f81",
   "metadata": {},
   "outputs": [],
   "source": [
    "B = read(f,\"B\");\n",
    "ib = puzzleX(B,LL,1,Nx,Ny,Nz);\n",
    "jb = puzzleX(B,LL,2,Nx,Ny,Nz);\n",
    "kb = puzzleX(B,LL,3,Nx,Ny,Nz);"
   ]
  },
  {
   "cell_type": "code",
   "execution_count": 6,
   "id": "48725e45-ef9b-47c5-8969-e91d9f9edf68",
   "metadata": {},
   "outputs": [],
   "source": [
    "d = puzzleX(prim,LL,1,Nx,Ny,Nz);\n",
    "p = puzzleX(prim,LL,2,Nx,Ny,Nz);\n",
    "#iv= puzzleX(prim,LL,3,Nx,Ny,Nz);\n",
    "#jv= puzzleX(prim,LL,4,Nx,Ny,Nz);\n",
    "#kv= puzzleX(prim,LL,5,Nx,Ny,Nz);"
   ]
  },
  {
   "cell_type": "code",
   "execution_count": 7,
   "id": "e84f5334-7c88-4860-b834-3895d85da33f",
   "metadata": {
    "tags": []
   },
   "outputs": [],
   "source": [
    "prim = 0\n",
    "GC.gc();"
   ]
  },
  {
   "cell_type": "code",
   "execution_count": 30,
   "id": "c5808a4a-14a7-4bfe-a319-dfe690b22725",
   "metadata": {},
   "outputs": [
    {
     "data": {
      "text/plain": [
       "7.191000410314663"
      ]
     },
     "execution_count": 30,
     "metadata": {},
     "output_type": "execute_result"
    }
   ],
   "source": [
    "cs = sqrt.(γ*p./d) \n",
    "maximum(cs)"
   ]
  },
  {
   "cell_type": "code",
   "execution_count": 35,
   "id": "844ce214-5f54-49e2-8a4e-10fcd5edc6e7",
   "metadata": {},
   "outputs": [
    {
     "data": {
      "text/plain": [
       "0.010429703201298823"
      ]
     },
     "execution_count": 35,
     "metadata": {},
     "output_type": "execute_result"
    }
   ],
   "source": [
    "dx = 200/Nx;\n",
    "t_cs = dx/maximum(cs)*0.3"
   ]
  },
  {
   "cell_type": "code",
   "execution_count": 27,
   "id": "f61b2aea-8e72-4474-9e1e-3db0505e19e0",
   "metadata": {},
   "outputs": [
    {
     "data": {
      "text/plain": [
       "CoolingTime_T (generic function with 1 method)"
      ]
     },
     "execution_count": 27,
     "metadata": {},
     "output_type": "execute_result"
    }
   ],
   "source": [
    "function CoolingTime_T(d::Array{DT,3},p::Array{DT,3}) where DT\n",
    "    unit_length_in_cm_  = 3.086e+18;\n",
    "    unit_vel_in_cms_    = 1.0e5;\n",
    "    unit_density_in_nH_ = 1;\n",
    "    γ = 5/3;\n",
    "    unit_E_in_cgs_ = 1.67e-24 * 1.4 * unit_density_in_nH_* unit_vel_in_cms_ * unit_vel_in_cms_;\n",
    "    unit_time_in_s_ = unit_length_in_cm_/unit_vel_in_cms_;\n",
    "    nx,ny,nz = size(d);\n",
    "    mindt = 1e99\n",
    "    for k = 1:nz::Int, j = 1:ny::Int\n",
    "        @simd for i = 1:nx::Int\n",
    "        \n",
    "        nH_ = d[i,j,k];\n",
    "        ED  = p[i,j,k]/(γ-1); \n",
    "        E_ergs = ED * unit_E_in_cgs_ / nH_;\n",
    "        T  =  E_ergs / (1.5*1.381e-16);\n",
    "            \n",
    "            \n",
    "        Heating = 2e-26;\n",
    "        Cooling = 2e-26*nH_*(1e7*exp(-1.184e5/(T+ 1e3)) + 1.4e-2*sqrt(T)*exp(-92/T)); \n",
    "        dEdt = Heating;\n",
    "        dEdt =  T > 50 ? dEdt : dEdt - Cooling;\n",
    "        E_ergs = T*(1.5*1.381e-16);\n",
    "        dt = abs(0.3*E_ergs/dEdt/unit_time_in_s_);\n",
    "        mindt = mindt > dt ? dt : mindt;\n",
    "            \n",
    "        end\n",
    "    end\n",
    "    return mindt\n",
    "end"
   ]
  },
  {
   "cell_type": "code",
   "execution_count": 28,
   "id": "c7e56b1a-4692-4704-9f3d-42789454d7ed",
   "metadata": {
    "tags": []
   },
   "outputs": [
    {
     "data": {
      "text/plain": [
       "0.00118662005247984"
      ]
     },
     "execution_count": 28,
     "metadata": {},
     "output_type": "execute_result"
    }
   ],
   "source": [
    "CoolingTime_T(d,p)"
   ]
  },
  {
   "cell_type": "code",
   "execution_count": 29,
   "id": "0f54a217-51f4-440d-b3c8-c3354bff3c10",
   "metadata": {
    "tags": []
   },
   "outputs": [
    {
     "data": {
      "text/plain": [
       "6.859943405700354"
      ]
     },
     "execution_count": 29,
     "metadata": {},
     "output_type": "execute_result"
    }
   ],
   "source": [
    "T = 8000\n",
    "sqrt(T/170)"
   ]
  },
  {
   "cell_type": "code",
   "execution_count": 21,
   "id": "ef23dba3-77a1-4caf-bb69-afbb3be23b71",
   "metadata": {},
   "outputs": [
    {
     "data": {
      "text/plain": [
       "3.80118004273731"
      ]
     },
     "execution_count": 21,
     "metadata": {},
     "output_type": "execute_result"
    }
   ],
   "source": [
    "mean(cs)"
   ]
  },
  {
   "cell_type": "code",
   "execution_count": 20,
   "id": "8d732f78-42ac-44e1-ba1f-281e2a5534db",
   "metadata": {},
   "outputs": [
    {
     "data": {
      "text/plain": [
       "(-0.05193824f0, 0.033339016f0, -0.0098565f0)"
      ]
     },
     "execution_count": 20,
     "metadata": {},
     "output_type": "execute_result"
    }
   ],
   "source": [
    "mean(iv),mean(jv),mean(kv)"
   ]
  },
  {
   "cell_type": "code",
   "execution_count": 16,
   "id": "d3b14826-18b1-4fb6-9edc-1522ae9c67e1",
   "metadata": {},
   "outputs": [
    {
     "data": {
      "text/plain": [
       "(1.1483554f0, 1.1142577f0, 1.396002f0)"
      ]
     },
     "execution_count": 16,
     "metadata": {},
     "output_type": "execute_result"
    }
   ],
   "source": [
    "std(iv),std(jv),std(kv)"
   ]
  },
  {
   "cell_type": "code",
   "execution_count": 32,
   "id": "91a521f3-8108-4e37-a13b-cba6710301f3",
   "metadata": {},
   "outputs": [],
   "source": [
    "unit_length_in_cm_  = 3.086e+18;\n",
    "unit_vel_in_cms_    = 1.0e5;\n",
    "unit_density_in_nH_ = 1;\n",
    "γ = 5/3;\n",
    "unit_E_in_cgs_ = 1.67e-24 * 1.4 * unit_density_in_nH_* unit_vel_in_cms_ * unit_vel_in_cms_;\n",
    "unit_time_in_s_ = unit_length_in_cm_/unit_vel_in_cms_;\n",
    "T  =  p./(γ-1) * unit_E_in_cgs_ ./ d./ (1.5*1.381e-16);"
   ]
  },
  {
   "cell_type": "code",
   "execution_count": null,
   "id": "88ac48ec-8cd1-459f-8bfa-9be3b7ded837",
   "metadata": {},
   "outputs": [],
   "source": [
    "#Phase diagram\n",
    "CoolRate(ρ::Number,T::Array,Γ::Number) = ρ^2*Γ*(1e7*exp.(-[1.184e5]./(T.+1e3))+1.4e-2*sqrt.(T).*exp.(-[92]./T));\n",
    "TT = [10].^collect(-2:0.0001:5.0);\n",
    "G = CoolRate(1,TT,1);\n",
    "n  = G.^-1;\n",
    "ndot = n*1;\n",
    "\n",
    "plt[:hist2d](log10.(d)[:],log10.(170*p[:]),bins=300,cmap=\"jet\",norm=mpl.colors.LogNorm())\n",
    "plot(log10.(ndot),log10.(ndot.*TT),\"k--\")\n",
    "xlim(-1,2.75)\n",
    "ylim(2.5,4.3)#ylim(0,5.5)\n",
    "\n",
    "xlabel(L\"log_{10}(n) [cm^{-3}]\",fontsize=15)\n",
    "ylabel(L\"log_{10}(P/k_b) ( K cm^{-3})\",fontsize=15)"
   ]
  },
  {
   "cell_type": "code",
   "execution_count": 8,
   "id": "214a2a6a-261e-4064-9280-ee519d0da3a2",
   "metadata": {},
   "outputs": [
    {
     "ename": "LoadError",
     "evalue": "UndefVarError: T not defined",
     "output_type": "error",
     "traceback": [
      "UndefVarError: T not defined",
      "",
      "Stacktrace:",
      " [1] top-level scope",
      "   @ In[8]:12",
      " [2] eval",
      "   @ ./boot.jl:368 [inlined]",
      " [3] include_string(mapexpr::typeof(REPL.softscope), mod::Module, code::String, filename::String)",
      "   @ Base ./loading.jl:1428"
     ]
    }
   ],
   "source": [
    "function imshow_with_sd(A;cmap=\"jet\")\n",
    "    m,σ = mean(A[.~isnan.(A)]),std(A[.~isnan.(A)]);\n",
    "    imshow(A,vmin=m-2σ,vmax=m+2σ,cmap=cmap);colorbar()\n",
    "end\n",
    "\n",
    "figure(figsize=(21,9))\n",
    "subplot(131);title(L\"\\rho\")\n",
    "imshow_with_sd(log10.(d[:,400,:]');cmap=\"jet\")\n",
    "subplot(132);title(L\"p\")\n",
    "imshow_with_sd(log10.(p[:,400,:]');cmap=\"jet\")\n",
    "subplot(133);title(L\"T\")\n",
    "imshow_with_sd(log10.(T[:,400,:]');cmap=\"jet\")"
   ]
  },
  {
   "cell_type": "code",
   "execution_count": 98,
   "id": "cd3bdffa-8916-47fe-a32c-c79a6a866b8a",
   "metadata": {},
   "outputs": [
    {
     "data": {
      "text/plain": [
       "1.0"
      ]
     },
     "execution_count": 98,
     "metadata": {},
     "output_type": "execute_result"
    }
   ],
   "source": [
    "4352/17/16/16"
   ]
  },
  {
   "cell_type": "code",
   "execution_count": 103,
   "id": "96372889-0c61-46d9-a9cc-149f9ede35dc",
   "metadata": {},
   "outputs": [
    {
     "data": {
      "text/plain": [
       "(51.0, 48.0)"
      ]
     },
     "execution_count": 103,
     "metadata": {},
     "output_type": "execute_result"
    }
   ],
   "source": [
    "816/16,816/17"
   ]
  },
  {
   "cell_type": "code",
   "execution_count": null,
   "id": "0bf70294-b92c-4a28-bba3-17d62f09d854",
   "metadata": {},
   "outputs": [],
   "source": []
  }
 ],
 "metadata": {
  "kernelspec": {
   "display_name": "julia 1.8.0",
   "language": "julia",
   "name": "julia-1.8"
  },
  "language_info": {
   "file_extension": ".jl",
   "mimetype": "application/julia",
   "name": "julia",
   "version": "1.8.0"
  }
 },
 "nbformat": 4,
 "nbformat_minor": 5
}
